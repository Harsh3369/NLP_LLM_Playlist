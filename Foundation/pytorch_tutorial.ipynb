{
 "cells": [
  {
   "cell_type": "markdown",
   "metadata": {},
   "source": [
    "### PyTorch Fundamentals"
   ]
  },
  {
   "cell_type": "markdown",
   "metadata": {},
   "source": [
    "#### Set up\n",
    "**We'll import PyTorch and set seeds for reproducibility. Note that PyTorch also required a seed since we will be generating random tensors.**"
   ]
  },
  {
   "cell_type": "code",
   "execution_count": 1,
   "metadata": {},
   "outputs": [],
   "source": [
    "import numpy as np\n",
    "import torch"
   ]
  },
  {
   "cell_type": "code",
   "execution_count": 2,
   "metadata": {},
   "outputs": [],
   "source": [
    "#Setting the seed\n",
    "SEED = 1234"
   ]
  },
  {
   "cell_type": "code",
   "execution_count": 3,
   "metadata": {},
   "outputs": [
    {
     "data": {
      "text/plain": [
       "<torch._C.Generator at 0x1a632e09510>"
      ]
     },
     "execution_count": 3,
     "metadata": {},
     "output_type": "execute_result"
    }
   ],
   "source": [
    "# Set seed for reproducibility\n",
    "np.random.seed(seed=SEED)\n",
    "torch.manual_seed(SEED)"
   ]
  },
  {
   "cell_type": "markdown",
   "metadata": {},
   "source": [
    "#### Basics\n",
    "- We'll first cover some basics with PyTorch such as creating tensors and converting from common data structures (lists, arrays, etc.) to tensors."
   ]
  },
  {
   "cell_type": "code",
   "execution_count": 4,
   "metadata": {},
   "outputs": [
    {
     "name": "stdout",
     "output_type": "stream",
     "text": [
      "Type : torch.FloatTensor\n",
      "\n",
      "Size: torch.Size([2, 3])\n",
      "\n",
      "Values : \n",
      "tensor([[ 0.0461,  0.4024, -1.0115],\n",
      "        [ 0.2167, -0.6123,  0.5036]])\n"
     ]
    }
   ],
   "source": [
    "#Create a random tensor\n",
    "\n",
    "x = torch.randn(2,3) # normal distribution (rand(2,3) -> uniform distribution)\n",
    "\n",
    "print(f\"Type : {x.type()}\")\n",
    "print('')\n",
    "print(f\"Size: {x.shape}\")\n",
    "print('')\n",
    "print(f\"Values : \\n{x}\")"
   ]
  },
  {
   "cell_type": "code",
   "execution_count": 6,
   "metadata": {},
   "outputs": [
    {
     "name": "stdout",
     "output_type": "stream",
     "text": [
      "torch.FloatTensor\n",
      "\n",
      "torch.Size([3, 3])\n",
      "\n",
      "tensor([[ 0.8848, -0.2611,  0.6104],\n",
      "        [-0.0098, -1.4473, -0.2039],\n",
      "        [ 0.8738, -0.6816,  0.6339]])\n"
     ]
    }
   ],
   "source": [
    "#Create a random tensor\n",
    "y = torch.randn(3,3) # normal distribution (rand(2,3) -> uniform distribution)\n",
    "\n",
    "print(y.type())\n",
    "print('')\n",
    "print(y.shape)\n",
    "print('')\n",
    "print(y)"
   ]
  },
  {
   "cell_type": "code",
   "execution_count": 7,
   "metadata": {},
   "outputs": [
    {
     "name": "stdout",
     "output_type": "stream",
     "text": [
      "Type : torch.FloatTensor\n",
      "\n",
      "Size: torch.Size([3, 3])\n",
      "\n",
      "Values : \n",
      "tensor([[0., 0., 0.],\n",
      "        [0., 0., 0.],\n",
      "        [0., 0., 0.]])\n"
     ]
    }
   ],
   "source": [
    "#Zeros Tensor\n",
    "\n",
    "x = torch.zeros(3,3)\n",
    "print(f\"Type : {x.type()}\")\n",
    "print('')\n",
    "print(f\"Size: {x.shape}\")\n",
    "print('')\n",
    "print(f\"Values : \\n{x}\")"
   ]
  },
  {
   "cell_type": "code",
   "execution_count": 8,
   "metadata": {},
   "outputs": [
    {
     "name": "stdout",
     "output_type": "stream",
     "text": [
      "Type : torch.FloatTensor\n",
      "\n",
      "Size: torch.Size([3, 3])\n",
      "\n",
      "Values : \n",
      "tensor([[1., 1., 1.],\n",
      "        [1., 1., 1.],\n",
      "        [1., 1., 1.]])\n"
     ]
    }
   ],
   "source": [
    "#Ones Tensor\n",
    "x = torch.ones(3,3)\n",
    "print(f\"Type : {x.type()}\")\n",
    "print('')\n",
    "print(f\"Size: {x.shape}\")\n",
    "print('')\n",
    "print(f\"Values : \\n{x}\")"
   ]
  },
  {
   "cell_type": "code",
   "execution_count": 9,
   "metadata": {},
   "outputs": [
    {
     "name": "stdout",
     "output_type": "stream",
     "text": [
      "Type : torch.FloatTensor\n",
      "\n",
      "Size: torch.Size([3, 3])\n",
      "\n",
      "Values : \n",
      "tensor([[1., 2., 3.],\n",
      "        [4., 5., 6.],\n",
      "        [7., 8., 9.]])\n"
     ]
    }
   ],
   "source": [
    "# List → Tensor\n",
    "\n",
    "x = torch.Tensor([[1,2,3],[4,5,6],[7,8,9]])\n",
    "print(f\"Type : {x.type()}\")\n",
    "print('')\n",
    "print(f\"Size: {x.shape}\")\n",
    "print('')\n",
    "print(f\"Values : \\n{x}\")"
   ]
  },
  {
   "cell_type": "code",
   "execution_count": 10,
   "metadata": {},
   "outputs": [
    {
     "name": "stdout",
     "output_type": "stream",
     "text": [
      "Type : torch.FloatTensor\n",
      "\n",
      "Size: torch.Size([2, 4])\n",
      "\n",
      "Values : \n",
      "tensor([[0.1915, 0.6221, 0.4377, 0.7854],\n",
      "        [0.7800, 0.2726, 0.2765, 0.8019]])\n"
     ]
    }
   ],
   "source": [
    "# NumPy array → Tensor\n",
    "\n",
    "x = torch.Tensor(np.random.rand(2,4))\n",
    "print(f\"Type : {x.type()}\")\n",
    "print('')\n",
    "print(f\"Size: {x.shape}\")\n",
    "print('')\n",
    "print(f\"Values : \\n{x}\")\n"
   ]
  },
  {
   "cell_type": "code",
   "execution_count": 11,
   "metadata": {},
   "outputs": [
    {
     "name": "stdout",
     "output_type": "stream",
     "text": [
      "Type : torch.FloatTensor\n",
      "\n",
      "Size: torch.Size([2, 4])\n",
      "\n",
      "Values : \n",
      "tensor([[0.1915, 0.6221, 0.4377, 0.7854],\n",
      "        [0.7800, 0.2726, 0.2765, 0.8019]])\n",
      "Type : torch.IntTensor\n",
      "\n",
      "Size: torch.Size([2, 4])\n",
      "\n",
      "Values : \n",
      "tensor([[0, 0, 0, 0],\n",
      "        [0, 0, 0, 0]], dtype=torch.int32)\n"
     ]
    }
   ],
   "source": [
    "# Changing tensor type\n",
    "print(f\"Type : {x.type()}\")\n",
    "print('')\n",
    "print(f\"Size: {x.shape}\")\n",
    "print('')\n",
    "print(f\"Values : \\n{x}\")\n",
    "\n",
    "x= x.int()\n",
    "\n",
    "print(f\"Type : {x.type()}\")\n",
    "print('')\n",
    "print(f\"Size: {x.shape}\")\n",
    "print('')\n",
    "print(f\"Values : \\n{x}\")"
   ]
  },
  {
   "cell_type": "markdown",
   "metadata": {},
   "source": [
    "### Operations\n",
    "- Now we'll explore some basic operations with tensors."
   ]
  },
  {
   "cell_type": "code",
   "execution_count": 21,
   "metadata": {},
   "outputs": [
    {
     "name": "stdout",
     "output_type": "stream",
     "text": [
      "Values : \n",
      "tensor([[3, 1, 1],\n",
      "        [0, 2, 0],\n",
      "        [4, 3, 0]])\n",
      "\n",
      "Values : \n",
      "tensor([[0, 0, 5],\n",
      "        [1, 0, 6],\n",
      "        [3, 1, 1]])\n",
      "\n",
      "Type : torch.LongTensor\n",
      "\n",
      "Size: torch.Size([3, 3])\n",
      "\n",
      "Values : \n",
      "tensor([[3, 1, 6],\n",
      "        [1, 2, 6],\n",
      "        [7, 4, 1]])\n"
     ]
    }
   ],
   "source": [
    "# Addition\n",
    "\n",
    "x = torch.randint(0,5,(3,3))\n",
    "print(f\"Values : \\n{x}\")\n",
    "print('')\n",
    "\n",
    "y = torch.randint(0,8,(3,3))\n",
    "print(f\"Values : \\n{y}\")\n",
    "print('')\n",
    "\n",
    "sum = x + y\n",
    "print(f\"Type : {sum.type()}\")\n",
    "print('')\n",
    "print(f\"Size: {sum.shape}\")\n",
    "print('')\n",
    "print(f\"Values : \\n{sum}\")"
   ]
  },
  {
   "cell_type": "code",
   "execution_count": 27,
   "metadata": {},
   "outputs": [
    {
     "name": "stdout",
     "output_type": "stream",
     "text": [
      "Values : \n",
      "tensor([[2, 4, 0],\n",
      "        [1, 1, 0],\n",
      "        [2, 0, 3]])\n",
      "\n",
      "Values : \n",
      "tensor([[1, 4],\n",
      "        [2, 3],\n",
      "        [1, 2]])\n",
      "\n",
      "Type : torch.LongTensor\n",
      "\n",
      "Size: torch.Size([3, 2])\n",
      "\n",
      "Values : \n",
      "tensor([[10, 20],\n",
      "        [ 3,  7],\n",
      "        [ 5, 14]])\n"
     ]
    }
   ],
   "source": [
    "# Dot product\n",
    "x = torch.randint(0,5,(3,3))\n",
    "print(f\"Values : \\n{x}\")\n",
    "print('')\n",
    "\n",
    "y = torch.randint(0,8,(3,2))\n",
    "print(f\"Values : \\n{y}\")\n",
    "print('')\n",
    "\n",
    "product = torch.mm(x,y)\n",
    "print(f\"Type : {product.type()}\")\n",
    "print('')\n",
    "print(f\"Size: {product.shape}\")\n",
    "print('')\n",
    "print(f\"Values : \\n{product}\")"
   ]
  },
  {
   "cell_type": "code",
   "execution_count": 30,
   "metadata": {},
   "outputs": [
    {
     "name": "stdout",
     "output_type": "stream",
     "text": [
      "Type : torch.LongTensor\n",
      "\n",
      "Size: torch.Size([2, 3])\n",
      "\n",
      "Values : \n",
      "tensor([[10, 20],\n",
      "        [ 3,  7],\n",
      "        [ 5, 14]])\n",
      "\n",
      "Values : \n",
      "tensor([[10,  3,  5],\n",
      "        [20,  7, 14]])\n"
     ]
    }
   ],
   "source": [
    "# Transpose\n",
    "product_T = torch.t(product)\n",
    "print(f\"Type : {product_T.type()}\")\n",
    "print('')\n",
    "print(f\"Size: {product_T.shape}\")\n",
    "print('')\n",
    "print(f\"Values : \\n{product}\")\n",
    "print('')\n",
    "print(f\"Values : \\n{product_T}\")"
   ]
  },
  {
   "cell_type": "code",
   "execution_count": 35,
   "metadata": {},
   "outputs": [
    {
     "name": "stdout",
     "output_type": "stream",
     "text": [
      "Values : \n",
      "tensor([[ 0.9020,  0.9087,  1.0404],\n",
      "        [-0.6150,  0.9251, -0.2355]])\n",
      "\n",
      "Type : torch.FloatTensor\n",
      "\n",
      "Size: torch.Size([6, 1])\n",
      "\n",
      "Values : \n",
      "tensor([[ 0.9020],\n",
      "        [ 0.9087],\n",
      "        [ 1.0404],\n",
      "        [-0.6150],\n",
      "        [ 0.9251],\n",
      "        [-0.2355]])\n"
     ]
    }
   ],
   "source": [
    "# Reshape\n",
    "x = torch.randn(2,3)\n",
    "print(f\"Values : \\n{x}\")\n",
    "print('')\n",
    "z = x.view(6,1)\n",
    "print(f\"Type : {z.type()}\")\n",
    "print('')\n",
    "print(f\"Size: {z.shape}\")\n",
    "print('')\n",
    "print(f\"Values : \\n{z}\")"
   ]
  },
  {
   "cell_type": "code",
   "execution_count": 36,
   "metadata": {},
   "outputs": [
    {
     "name": "stdout",
     "output_type": "stream",
     "text": [
      "Size: torch.Size([2, 3, 4])\n",
      "x: \n",
      "tensor([[[ 1,  1,  1,  1],\n",
      "         [ 2,  2,  2,  2],\n",
      "         [ 3,  3,  3,  3]],\n",
      "\n",
      "        [[10, 10, 10, 10],\n",
      "         [20, 20, 20, 20],\n",
      "         [30, 30, 30, 30]]])\n",
      "\n"
     ]
    }
   ],
   "source": [
    "# Dangers of reshaping (unintended consequences)\n",
    "x = torch.tensor([\n",
    "    [[1,1,1,1], [2,2,2,2], [3,3,3,3]],\n",
    "    [[10,10,10,10], [20,20,20,20], [30,30,30,30]]\n",
    "])\n",
    "print(f\"Size: {x.shape}\")\n",
    "print(f\"x: \\n{x}\\n\")"
   ]
  },
  {
   "cell_type": "code",
   "execution_count": 37,
   "metadata": {},
   "outputs": [
    {
     "name": "stdout",
     "output_type": "stream",
     "text": [
      "\n",
      "Size: torch.Size([3, 8])\n",
      "a: \n",
      "tensor([[ 1,  1,  1,  1,  2,  2,  2,  2],\n",
      "        [ 3,  3,  3,  3, 10, 10, 10, 10],\n",
      "        [20, 20, 20, 20, 30, 30, 30, 30]])\n",
      "\n"
     ]
    }
   ],
   "source": [
    "a = x.view(x.size(1), -1)\n",
    "print(f\"\\nSize: {a.shape}\")\n",
    "print(f\"a: \\n{a}\\n\")"
   ]
  },
  {
   "cell_type": "code",
   "execution_count": 38,
   "metadata": {},
   "outputs": [
    {
     "name": "stdout",
     "output_type": "stream",
     "text": [
      "\n",
      "Size: torch.Size([3, 2, 4])\n",
      "b: \n",
      "tensor([[[ 1,  1,  1,  1],\n",
      "         [10, 10, 10, 10]],\n",
      "\n",
      "        [[ 2,  2,  2,  2],\n",
      "         [20, 20, 20, 20]],\n",
      "\n",
      "        [[ 3,  3,  3,  3],\n",
      "         [30, 30, 30, 30]]])\n",
      "\n"
     ]
    }
   ],
   "source": [
    "b = x.transpose(0,1).contiguous()\n",
    "print(f\"\\nSize: {b.shape}\")\n",
    "print(f\"b: \\n{b}\\n\")"
   ]
  },
  {
   "cell_type": "code",
   "execution_count": 39,
   "metadata": {},
   "outputs": [
    {
     "name": "stdout",
     "output_type": "stream",
     "text": [
      "\n",
      "Size: torch.Size([3, 8])\n",
      "c: \n",
      "tensor([[ 1,  1,  1,  1, 10, 10, 10, 10],\n",
      "        [ 2,  2,  2,  2, 20, 20, 20, 20],\n",
      "        [ 3,  3,  3,  3, 30, 30, 30, 30]])\n"
     ]
    }
   ],
   "source": [
    "c = b.view(b.size(0), -1)\n",
    "print(f\"\\nSize: {c.shape}\")\n",
    "print(f\"c: \\n{c}\")"
   ]
  },
  {
   "cell_type": "code",
   "execution_count": 45,
   "metadata": {},
   "outputs": [
    {
     "name": "stdout",
     "output_type": "stream",
     "text": [
      "Values: \n",
      "tensor([[1, 0, 4],\n",
      "        [8, 4, 4]])\n",
      "\n",
      "Values: \n",
      "tensor([9, 4, 8])\n",
      "\n",
      "Values: \n",
      "tensor([ 5, 16])\n"
     ]
    }
   ],
   "source": [
    "# Dimensional operations\n",
    "x = torch.randint(0,10,(2, 3))\n",
    "print(f\"Values: \\n{x}\")\n",
    "print('')\n",
    "y = torch.sum(x, dim=0) # add each row's value for every column\n",
    "print(f\"Values: \\n{y}\")\n",
    "print('')\n",
    "z = torch.sum(x, dim=1) # add each columns's value for every row\n",
    "print(f\"Values: \\n{z}\")"
   ]
  },
  {
   "cell_type": "markdown",
   "metadata": {},
   "source": [
    "### Indexing\n",
    "- Now we'll look at how to extract, separate and join values from our tensors."
   ]
  },
  {
   "cell_type": "code",
   "execution_count": 52,
   "metadata": {},
   "outputs": [
    {
     "name": "stdout",
     "output_type": "stream",
     "text": [
      "Values: \n",
      "tensor([[6, 3, 3],\n",
      "        [4, 9, 9]])\n",
      "\n",
      "x[:1]: \n",
      "tensor([[6, 3, 3]])\n",
      "\n",
      "x[:2]: \n",
      "tensor([[6, 3, 3],\n",
      "        [4, 9, 9]])\n",
      "\n",
      "x[:1, 1:3]: \n",
      "tensor([[6, 3]])]\n"
     ]
    }
   ],
   "source": [
    "# Dimensional operations\n",
    "x = torch.randint(0,10,(2, 3))\n",
    "print(f\"Values: \\n{x}\")\n",
    "print('')\n",
    "print(f\"x[:1]: \\n{x[:1]}\")\n",
    "print('')\n",
    "print(f\"x[:2]: \\n{x[:2]}\")\n",
    "print('')\n",
    "print(f\"x[:1, 1:3]: \\n{x[:1, 0:2]}]\")"
   ]
  },
  {
   "cell_type": "markdown",
   "metadata": {},
   "source": [
    "### Slicing"
   ]
  },
  {
   "cell_type": "code",
   "execution_count": 58,
   "metadata": {},
   "outputs": [
    {
     "name": "stdout",
     "output_type": "stream",
     "text": [
      "Values: \n",
      "tensor([[4, 6, 5],\n",
      "        [4, 7, 8],\n",
      "        [3, 9, 1]])\n",
      "\n",
      "Values: \n",
      "tensor([[4, 5],\n",
      "        [4, 8],\n",
      "        [3, 1]])\n"
     ]
    }
   ],
   "source": [
    "# Dimensional operations\n",
    "x = torch.randint(0,10,(3, 3))\n",
    "print(f\"Values: \\n{x}\")\n",
    "print('')\n",
    "\n",
    "col_indces = torch.LongTensor([0,2])\n",
    "chosen = torch.index_select(x, dim = 1, index=col_indces)# values from column 0 & 2\n",
    "print(f\"Values: \\n{chosen}\")"
   ]
  },
  {
   "cell_type": "code",
   "execution_count": 59,
   "metadata": {},
   "outputs": [
    {
     "name": "stdout",
     "output_type": "stream",
     "text": [
      "Values: \n",
      "tensor([4, 9])\n"
     ]
    }
   ],
   "source": [
    "row_indices = torch.LongTensor([0,2])\n",
    "col_indces = torch.LongTensor([0,1])\n",
    "\n",
    "chosen = x[row_indices, col_indces] # values from (0, 0) & (1, 2)\n",
    "print(f\"Values: \\n{chosen}\")"
   ]
  },
  {
   "cell_type": "markdown",
   "metadata": {},
   "source": [
    "### Joining"
   ]
  },
  {
   "cell_type": "code",
   "execution_count": 60,
   "metadata": {},
   "outputs": [
    {
     "name": "stdout",
     "output_type": "stream",
     "text": [
      "Values: \n",
      "tensor([[4, 2],\n",
      "        [5, 7]])\n",
      "\n"
     ]
    }
   ],
   "source": [
    "# Dimensional operations\n",
    "x = torch.randint(0,10,(2, 2))\n",
    "print(f\"Values: \\n{x}\")\n",
    "print('')"
   ]
  },
  {
   "cell_type": "code",
   "execution_count": 62,
   "metadata": {},
   "outputs": [
    {
     "name": "stdout",
     "output_type": "stream",
     "text": [
      "tensor([[4, 2, 4, 2],\n",
      "        [5, 7, 5, 7]])\n",
      "torch.Size([2, 4])\n"
     ]
    }
   ],
   "source": [
    "# Concatenation\n",
    "y = torch.cat([x, x], dim=1) # concat on a specified dimension\n",
    "print (y)\n",
    "print (y.shape)"
   ]
  },
  {
   "cell_type": "code",
   "execution_count": 63,
   "metadata": {},
   "outputs": [
    {
     "name": "stdout",
     "output_type": "stream",
     "text": [
      "tensor([[[4, 2],\n",
      "         [5, 7]],\n",
      "\n",
      "        [[4, 2],\n",
      "         [5, 7]]])\n",
      "torch.Size([2, 2, 2])\n"
     ]
    }
   ],
   "source": [
    "# Stacking\n",
    "\n",
    "z = torch.stack([x,x], dim = 0)\n",
    "print (z)\n",
    "print (z.shape)"
   ]
  },
  {
   "cell_type": "markdown",
   "metadata": {},
   "source": [
    "### Gradients\n",
    "*We can determine gradients (rate of change) of our tensors with respect to their constituents using gradient bookkeeping. The gradient is a vector that points in the direction of greatest increase of a function. We'll be using gradients in the next lesson to determine how to change our weights to affect a particular objective function (ex. loss).*"
   ]
  },
  {
   "cell_type": "code",
   "execution_count": 65,
   "metadata": {},
   "outputs": [
    {
     "name": "stdout",
     "output_type": "stream",
     "text": [
      "x: \n",
      "tensor([[0.2223, 0.2539, 0.8482],\n",
      "        [0.0727, 0.6497, 0.9484],\n",
      "        [0.1678, 0.0592, 0.7710]], requires_grad=True)\n",
      "\n",
      "y: \n",
      "tensor([[2.6669, 2.7617, 4.5447],\n",
      "        [2.2181, 3.9491, 4.8451],\n",
      "        [2.5033, 2.1775, 4.3128]], grad_fn=<AddBackward0>)\n",
      "\n",
      "z: \n",
      "3.331031560897827\n",
      "\n",
      "x.grad: \n",
      "tensor([[0.3333, 0.3333, 0.3333],\n",
      "        [0.3333, 0.3333, 0.3333],\n",
      "        [0.3333, 0.3333, 0.3333]])\n"
     ]
    }
   ],
   "source": [
    "# Tensors with gradient bookkeeping\n",
    "x = torch.rand(3, 3, requires_grad=True)\n",
    "y = 3*x + 2\n",
    "z = y.mean()\n",
    "z.backward() # z has to be scalar\n",
    "print(f\"x: \\n{x}\")\n",
    "print('')\n",
    "print(f\"y: \\n{y}\")\n",
    "print('')\n",
    "print(f\"z: \\n{z}\")\n",
    "print('')\n",
    "print(f\"x.grad: \\n{x.grad}\")"
   ]
  },
  {
   "cell_type": "markdown",
   "metadata": {},
   "source": [
    "### CUDA\n",
    "*We also load our tensors onto the GPU for parallelized computation using CUDA (a parallel computing platform and API from Nvidia).*"
   ]
  },
  {
   "cell_type": "code",
   "execution_count": 66,
   "metadata": {},
   "outputs": [
    {
     "name": "stdout",
     "output_type": "stream",
     "text": [
      "False\n"
     ]
    }
   ],
   "source": [
    "# Is CUDA available?\n",
    "print (torch.cuda.is_available())"
   ]
  },
  {
   "cell_type": "code",
   "execution_count": 67,
   "metadata": {},
   "outputs": [
    {
     "name": "stdout",
     "output_type": "stream",
     "text": [
      "cpu\n"
     ]
    }
   ],
   "source": [
    "# Set device\n",
    "device = torch.device(\"cuda\" if torch.cuda.is_available() else \"cpu\")\n",
    "print (device)"
   ]
  }
 ],
 "metadata": {
  "kernelspec": {
   "display_name": "Python 3",
   "language": "python",
   "name": "python3"
  },
  "language_info": {
   "codemirror_mode": {
    "name": "ipython",
    "version": 3
   },
   "file_extension": ".py",
   "mimetype": "text/x-python",
   "name": "python",
   "nbconvert_exporter": "python",
   "pygments_lexer": "ipython3",
   "version": "3.9.0"
  }
 },
 "nbformat": 4,
 "nbformat_minor": 2
}
