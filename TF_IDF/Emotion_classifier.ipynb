{
 "cells": [
  {
   "cell_type": "markdown",
   "metadata": {},
   "source": [
    "## TF-IDF: Exercises\n",
    "\n",
    "**Emotional Intelligence from Words!**  \n",
    "\n",
    "We humans are complex creatures, constantly expressing our emotions through facial expressions, tone of voice, and of course, our words. Social media platforms like Twitter and Instagram have become a treasure trove of these emotional expressions, where people share their thoughts and feelings about various events and scenarios.\n",
    "\n",
    "**Can we, as data scientists, decipher these emotions from just text?** \n",
    "\n",
    "This exercise is an exciting foray into **Emotion Detection using Classical NLP Techniques**. We'll dive into the world of words and emotions, and try to classify a given comment based on the feelings it conveys.\n",
    "\n",
    "**Our Toolbox:**\n",
    "\n",
    "* **Text Representation:**\n",
    "    * Bag of grams and n-grams: Capture the frequency of words and word combinations.\n",
    "    * TF-IDF: Weigh words based on their importance within the document and across the corpus.\n",
    "* **Classification Algorithms:** Explore various algorithms to learn from the preprocessed text and assign an emotion label (fear, anger, or joy) to each comment.\n",
    "\n",
    "**The Data:**\n",
    "\n",
    "* **Source:** Emotions Dataset for NLP - [https://www.kaggle.com/datasets/praveengovi/emotions-dataset-for-nlp](https://www.kaggle.com/datasets/praveengovi/emotions-dataset-for-nlp)\n",
    "* **Columns:**\n",
    "    * `Comment`: Statement or message expressing an opinion or reaction to an event.\n",
    "    * `Emotion`: Label indicating the predominant emotion in the comment, one of three categories:\n",
    "        * `fear`: Feeling of worry or apprehension.\n",
    "        * `anger`: Strong feeling of annoyance, displeasure, or hostility.\n",
    "        * `joy`: Feeling of great happiness or pleasure.\n",
    "* **Problem Type:** Multi-Class Classification (three classes)\n",
    "\n",
    "**The Journey:**\n",
    "\n",
    "1. **Load the dataset:** Let's download and explore the dataset containing comments and their associated emotions.\n",
    "2. **Preprocess the text:** Clean, tokenize, and transform the comments into features using techniques like Bag of grams, n-grams, and TF-IDF.\n",
    "3. **Train the models:** Train various classification algorithms on the transformed data, optimizing their ability to learn and predict the underlying emotion.\n",
    "4. **Evaluate and fine-tune:** Compare the performance of different models using metrics like accuracy and F1-score.\n",
    "5. **Predict emotions:** Unleash the best performing model, and let it tell you the story behind the words - the hidden emotions!\n",
    "\n",
    "**Get ready to embark on a journey of understanding, one comment at a time!**  \n",
    "\n",
    "This Markdown format should be perfect for your Jupyter notebook. Remember to replace the generic steps with your actual implementation code and analysis. Good luck with your emotion detection adventure!  \n",
    "\n"
   ]
  },
  {
   "cell_type": "code",
   "execution_count": 8,
   "metadata": {},
   "outputs": [],
   "source": [
    "###Load Required dependencies\n",
    "\n",
    "import pandas as pd \n",
    "import numpy as np \n",
    "import matplotlib.pyplot as plt\n",
    "\n",
    "#use this utility function to get the preprocessed text data\n",
    "import spacy\n",
    "from sklearn.feature_extraction.text import TfidfVectorizer\n",
    "from sklearn.model_selection import train_test_split\n",
    "\n",
    "from sklearn.feature_extraction.text import CountVectorizer\n",
    "from sklearn.ensemble import RandomForestClassifier\n",
    "from sklearn.pipeline import Pipeline\n",
    "from sklearn.metrics import classification_report"
   ]
  },
  {
   "cell_type": "markdown",
   "metadata": {},
   "source": [
    "### Load the dataset"
   ]
  },
  {
   "cell_type": "code",
   "execution_count": 2,
   "metadata": {},
   "outputs": [
    {
     "name": "stdout",
     "output_type": "stream",
     "text": [
      "(5937, 2)\n",
      "\n"
     ]
    },
    {
     "data": {
      "text/html": [
       "<div>\n",
       "<style scoped>\n",
       "    .dataframe tbody tr th:only-of-type {\n",
       "        vertical-align: middle;\n",
       "    }\n",
       "\n",
       "    .dataframe tbody tr th {\n",
       "        vertical-align: top;\n",
       "    }\n",
       "\n",
       "    .dataframe thead th {\n",
       "        text-align: right;\n",
       "    }\n",
       "</style>\n",
       "<table border=\"1\" class=\"dataframe\">\n",
       "  <thead>\n",
       "    <tr style=\"text-align: right;\">\n",
       "      <th></th>\n",
       "      <th>Comment</th>\n",
       "      <th>Emotion</th>\n",
       "    </tr>\n",
       "  </thead>\n",
       "  <tbody>\n",
       "    <tr>\n",
       "      <th>0</th>\n",
       "      <td>i seriously hate one subject to death but now ...</td>\n",
       "      <td>fear</td>\n",
       "    </tr>\n",
       "    <tr>\n",
       "      <th>1</th>\n",
       "      <td>im so full of life i feel appalled</td>\n",
       "      <td>anger</td>\n",
       "    </tr>\n",
       "    <tr>\n",
       "      <th>2</th>\n",
       "      <td>i sit here to write i start to dig out my feel...</td>\n",
       "      <td>fear</td>\n",
       "    </tr>\n",
       "    <tr>\n",
       "      <th>3</th>\n",
       "      <td>ive been really angry with r and i feel like a...</td>\n",
       "      <td>joy</td>\n",
       "    </tr>\n",
       "    <tr>\n",
       "      <th>4</th>\n",
       "      <td>i feel suspicious if there is no one outside l...</td>\n",
       "      <td>fear</td>\n",
       "    </tr>\n",
       "  </tbody>\n",
       "</table>\n",
       "</div>"
      ],
      "text/plain": [
       "                                             Comment Emotion\n",
       "0  i seriously hate one subject to death but now ...    fear\n",
       "1                 im so full of life i feel appalled   anger\n",
       "2  i sit here to write i start to dig out my feel...    fear\n",
       "3  ive been really angry with r and i feel like a...     joy\n",
       "4  i feel suspicious if there is no one outside l...    fear"
      ]
     },
     "execution_count": 2,
     "metadata": {},
     "output_type": "execute_result"
    }
   ],
   "source": [
    "#read the dataset with name \"Fake_Real_Data.csv\" and store it in a variable df\n",
    "df_input = pd.read_csv(\"Input_data/Emotion_classify_Data.csv\")\n",
    "\n",
    "#print the shape of dataframe\n",
    "print(df_input.shape)\n",
    "print('')\n",
    "\n",
    "df_input.head()"
   ]
  },
  {
   "cell_type": "code",
   "execution_count": 4,
   "metadata": {},
   "outputs": [
    {
     "name": "stdout",
     "output_type": "stream",
     "text": [
      "Emotion\n",
      "anger    2000\n",
      "joy      2000\n",
      "fear     1937\n",
      "Name: count, dtype: int64\n",
      "\n",
      "Emotion\n",
      "anger    33.687047\n",
      "joy      33.687047\n",
      "fear     32.625905\n",
      "Name: proportion, dtype: float64\n"
     ]
    }
   ],
   "source": [
    "#Looking at distribution of the target column to check the imbalance\n",
    "\n",
    "print(df_input['Emotion'].value_counts())\n",
    "\n",
    "print('')\n",
    "\n",
    "print(df_input['Emotion'].value_counts(normalize=True)*100)"
   ]
  },
  {
   "cell_type": "markdown",
   "metadata": {},
   "source": [
    "**From the above distribution the data looks quite symmetric and balanced, hence no imbalance treatement is required**"
   ]
  },
  {
   "cell_type": "code",
   "execution_count": 5,
   "metadata": {},
   "outputs": [
    {
     "name": "stdout",
     "output_type": "stream",
     "text": [
      "\n",
      "label_num\n",
      "0    2000\n",
      "1    2000\n",
      "2    1937\n",
      "Name: count, dtype: int64\n"
     ]
    }
   ],
   "source": [
    "#Add the new column which gives a unique number to each of these labels \n",
    "df_input['label_num'] = df_input['Emotion'].map({'anger': 0, 'joy': 1, 'fear': 2})\n",
    "#check the results\n",
    "print('')\n",
    "\n",
    "print(df_input['label_num'].value_counts())"
   ]
  },
  {
   "cell_type": "markdown",
   "metadata": {},
   "source": [
    "### Use text pre-processing to remove stop words, punctuations and apply lemmatization"
   ]
  },
  {
   "cell_type": "code",
   "execution_count": 6,
   "metadata": {},
   "outputs": [],
   "source": [
    "# load english language model and create nlp object from it\n",
    "nlp = spacy.load(\"en_core_web_sm\") \n",
    "\n",
    "\n",
    "#use this utility function to get the preprocessed text data\n",
    "def preprocess(text):\n",
    "    # remove stop words and lemmatize the text\n",
    "    doc = nlp(text)\n",
    "    filtered_tokens = []\n",
    "    for token in doc:\n",
    "        if token.is_stop or token.is_punct:\n",
    "            continue\n",
    "        filtered_tokens.append(token.lemma_)\n",
    "    \n",
    "    return \" \".join(filtered_tokens)"
   ]
  },
  {
   "cell_type": "code",
   "execution_count": 7,
   "metadata": {},
   "outputs": [],
   "source": [
    "# create a new column \"preprocessed_comment\" and use the utility function above to get the clean data\n",
    "# this will take some time, please be patient\n",
    "df_input['preprocessed_comment'] = df_input['Comment'].apply(preprocess) "
   ]
  },
  {
   "cell_type": "markdown",
   "metadata": {},
   "source": [
    "### Build a model with pre processed text"
   ]
  },
  {
   "cell_type": "code",
   "execution_count": 10,
   "metadata": {},
   "outputs": [],
   "source": [
    "#Do the 'train-test' splitting with test size of 20% with random state of 2022 and stratify sampling too\n",
    "#Note: Use the preprocessed_Comment\n",
    "X_train, X_test, y_train, y_test = train_test_split(\n",
    "    df_input.preprocessed_comment, \n",
    "    df_input.label_num, \n",
    "    test_size=0.2, # 20% samples will go to test dataset\n",
    "    random_state=2022,\n",
    "    stratify=df_input.label_num\n",
    ")"
   ]
  },
  {
   "cell_type": "code",
   "execution_count": 11,
   "metadata": {},
   "outputs": [
    {
     "name": "stdout",
     "output_type": "stream",
     "text": [
      "Shape of X_train:  (4749,)\n",
      "Shape of X_test:  (1188,)\n"
     ]
    }
   ],
   "source": [
    "#print the shapes\n",
    "\n",
    "print(\"Shape of X_train: \", X_train.shape)\n",
    "print(\"Shape of X_test: \", X_test.shape)"
   ]
  },
  {
   "cell_type": "markdown",
   "metadata": {},
   "source": [
    "**Attempt1 :**\n",
    "\n",
    "using the sklearn pipeline module create a classification pipeline to classify the data.\n",
    "Note:\n",
    "\n",
    "- using CountVectorizer with both unigrams and bigrams.\n",
    "- use RandomForest as the classifier.\n",
    "- print the classification report.\n",
    "\n",
    " "
   ]
  },
  {
   "cell_type": "code",
   "execution_count": 12,
   "metadata": {},
   "outputs": [
    {
     "name": "stdout",
     "output_type": "stream",
     "text": [
      "              precision    recall  f1-score   support\n",
      "\n",
      "           0       0.91      0.93      0.92       400\n",
      "           1       0.93      0.95      0.94       400\n",
      "           2       0.95      0.90      0.92       388\n",
      "\n",
      "    accuracy                           0.93      1188\n",
      "   macro avg       0.93      0.93      0.93      1188\n",
      "weighted avg       0.93      0.93      0.93      1188\n",
      "\n"
     ]
    }
   ],
   "source": [
    "#1. create a pipeline object\n",
    "clf = Pipeline([\n",
    "    ('vectorizer_bi_grams', CountVectorizer(ngram_range = (1, 2))),                       #using the ngram_range parameter \n",
    "    ('random_forest', (RandomForestClassifier(random_state= 123)))         \n",
    "])\n",
    "\n",
    "#2. fit with X_train and y_train\n",
    "clf.fit(X_train, y_train)\n",
    "\n",
    "\n",
    "#3. get the predictions for X_test and store it in y_pred\n",
    "y_pred = clf.predict(X_test)\n",
    "\n",
    "\n",
    "#4. print the classfication report\n",
    "print(classification_report(y_test, y_pred))"
   ]
  },
  {
   "cell_type": "markdown",
   "metadata": {},
   "source": [
    "**Attempt 2 :**\n",
    "\n",
    "using the sklearn pipeline module create a classification pipeline to classify the data.\n",
    "Note:\n",
    "\n",
    "- using TF-IDF vectorizer for pre-processing the text.\n",
    "- use RandomForest as the classifier.\n",
    "- print the classification report."
   ]
  },
  {
   "cell_type": "code",
   "execution_count": 14,
   "metadata": {},
   "outputs": [
    {
     "name": "stdout",
     "output_type": "stream",
     "text": [
      "              precision    recall  f1-score   support\n",
      "\n",
      "           0       0.93      0.91      0.92       400\n",
      "           1       0.93      0.95      0.94       400\n",
      "           2       0.92      0.92      0.92       388\n",
      "\n",
      "    accuracy                           0.93      1188\n",
      "   macro avg       0.93      0.93      0.93      1188\n",
      "weighted avg       0.93      0.93      0.93      1188\n",
      "\n"
     ]
    }
   ],
   "source": [
    "#1. create a pipeline object\n",
    "clf = Pipeline([\n",
    "     ('vectorizer_tfidf',TfidfVectorizer()),        #using the ngram_range parameter \n",
    "     ('Random Forest', RandomForestClassifier(random_state= 123))         \n",
    "])\n",
    "\n",
    "#2. fit with X_train and y_train\n",
    "clf.fit(X_train, y_train)\n",
    "\n",
    "\n",
    "#3. get the predictions for X_test and store it in y_pred\n",
    "y_pred = clf.predict(X_test)\n",
    "\n",
    "\n",
    "#4. print the classfication report\n",
    "print(classification_report(y_test, y_pred)) "
   ]
  }
 ],
 "metadata": {
  "kernelspec": {
   "display_name": "Python 3",
   "language": "python",
   "name": "python3"
  },
  "language_info": {
   "codemirror_mode": {
    "name": "ipython",
    "version": 3
   },
   "file_extension": ".py",
   "mimetype": "text/x-python",
   "name": "python",
   "nbconvert_exporter": "python",
   "pygments_lexer": "ipython3",
   "version": "3.9.0"
  }
 },
 "nbformat": 4,
 "nbformat_minor": 2
}
